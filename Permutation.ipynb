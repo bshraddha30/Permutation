{
 "cells": [
  {
   "cell_type": "code",
   "execution_count": 4,
   "metadata": {},
   "outputs": [
    {
     "name": "stdout",
     "output_type": "stream",
     "text": [
      "Enter number of test cases T:3\n",
      "Pattern:hacks\n",
      "String:indiahacks\n",
      "Pattern:code\n",
      "String:eddy\n",
      "Pattern:coder\n",
      "String:iamredoc\n",
      "YES\n",
      "NO\n",
      "YES\n"
     ]
    }
   ],
   "source": [
    "#Get the input\n",
    "patternPresentList = []\n",
    "T = int(input(\"Enter number of test cases T:\")) \n",
    "for pattern, textstring in zip(range(T), range(T)):\n",
    "    pattern = input(\"Pattern:\")\n",
    "    \n",
    "    #Apply the constraint\n",
    "    if len(pattern) > 1000:\n",
    "        print(\"Pattern should be less than 1000 characters\")\n",
    "        break\n",
    "        \n",
    "    textstring = input(\"String:\")\n",
    "    \n",
    "    if len(textstring) > 100000:\n",
    "        print(\"String should be less than 100000 characters\")\n",
    "        break\n",
    "    #Check if the pattern exists or reverse pattern exists\n",
    "    if (textstring.find(pattern) != -1) or (textstring.find(pattern[::-1]) != -1):\n",
    "        patternPresentList.append(\"YES\")\n",
    "    else:\n",
    "        patternPresentList.append(\"NO\")\n",
    "\n",
    "#print the result\n",
    "for result in patternPresentList:\n",
    "    print(result)\n",
    "    "
   ]
  },
  {
   "cell_type": "code",
   "execution_count": null,
   "metadata": {},
   "outputs": [],
   "source": []
  },
  {
   "cell_type": "code",
   "execution_count": null,
   "metadata": {},
   "outputs": [],
   "source": []
  }
 ],
 "metadata": {
  "kernelspec": {
   "display_name": "Python 3",
   "language": "python",
   "name": "python3"
  },
  "language_info": {
   "codemirror_mode": {
    "name": "ipython",
    "version": 3
   },
   "file_extension": ".py",
   "mimetype": "text/x-python",
   "name": "python",
   "nbconvert_exporter": "python",
   "pygments_lexer": "ipython3",
   "version": "3.7.3"
  }
 },
 "nbformat": 4,
 "nbformat_minor": 4
}
